{
 "cells": [
  {
   "attachments": {},
   "cell_type": "markdown",
   "metadata": {},
   "source": [
    "### Load FashionMNIST dataset"
   ]
  },
  {
   "cell_type": "code",
   "execution_count": 1,
   "metadata": {},
   "outputs": [
    {
     "data": {
      "image/png": "[encoded data removed]",
      "text/plain": [
       "<Figure size 640x480 with 5 Axes>"
      ]
     },
     "metadata": {},
     "output_type": "display_data"
    }
   ],
   "source": [
    "import torch\n",
    "torch.manual_seed(42)\n",
    "torch.cuda.manual_seed(42)\n",
    "import torchvision\n",
    "import torchvision.transforms as transforms\n",
    "import tqdm\n",
    "import matplotlib.pyplot as plt\n",
    "\n",
    "\n",
    "def load_fashion_mnist_data(root_path='./data', batch_size=4):\n",
    "    transform = transforms.Compose(\n",
    "        [transforms.ToTensor(),\n",
    "        transforms.Normalize((0.5), (0.5))]\n",
    "    )\n",
    "\n",
    "    train_dataset = torchvision.datasets.FashionMNIST(root=root_path, train=True, download=True, transform=transform)\n",
    "    train_loader = torch.utils.data.DataLoader(train_dataset, batch_size=batch_size, shuffle=True, num_workers=2)\n",
    "\n",
    "    test_dataset = torchvision.datasets.FashionMNIST(root=root_path, train=False, download=True, transform=transform)\n",
    "    test_loader = torch.utils.data.DataLoader(test_dataset, batch_size=batch_size, shuffle=False, num_workers=2)\n",
    "\n",
    "    return train_loader, test_loader, train_dataset, test_dataset\n",
    "\n",
    "\n",
    "def plot_fashsion_mnist_images():\n",
    "    _, _, train_dataset, _ = load_fashion_mnist_data()\n",
    "\n",
    "    # get first x items\n",
    "    no = 5\n",
    "    images = [train_dataset.__getitem__(i)[0].permute(1,2,0) for i in range(0, no)]\n",
    "\n",
    "    for i in range(no):\n",
    "        plt.subplot(1, no, i+1)\n",
    "        plt.tight_layout()\n",
    "        plt.imshow(images[i], cmap='gray', interpolation='none')\n",
    "        plt.xticks([])\n",
    "        plt.yticks([])\n",
    "    plt.show()\n",
    "\n",
    "plot_fashsion_mnist_images()"
   ]
  },
  {
   "attachments": {},
   "cell_type": "markdown",
   "metadata": {},
   "source": [
    "### Training and evaluation methods"
   ]
  },
  {
   "cell_type": "code",
   "execution_count": 2,
   "metadata": {},
   "outputs": [],
   "source": [
    "import torch\n",
    "from typing import Callable\n",
    "from torch.optim import Optimizer\n",
    "from torch.utils.data import DataLoader\n",
    "import torch.nn as nn\n",
    "\n",
    "def train_model(\n",
    "    model: nn.Module, loss_fn: Callable, optimizer: Optimizer, train_data_loader: DataLoader, \n",
    "    epoch: int, batch_size: int = 4, epochs: int = 10, device: torch.device = 'cpu'\n",
    "):\n",
    "    # training mode\n",
    "    model.train()\n",
    "\n",
    "    running_loss = []\n",
    "    running_accuracy = []\n",
    "    for imgs, targets in tqdm.tqdm(train_data_loader, desc=f'Training iteration {epoch + 1}'):\n",
    "        imgs, targets = imgs.to(device=device), targets.to(device=device)\n",
    "\n",
    "        # zero the parameter gradients\n",
    "        optimizer.zero_grad()\n",
    "\n",
    "        # forward + backward + optimize\n",
    "        outputs = model(imgs)\n",
    "        loss = loss_fn(outputs, targets)\n",
    "        loss.backward()\n",
    "        optimizer.step()\n",
    "\n",
    "        # print statistics\n",
    "        running_loss.append(loss.item())\n",
    "\n",
    "        # Calculate the Accuracy \n",
    "        max_outputs = torch.max(outputs, dim=1).indices\n",
    "        accuracy = (max_outputs.detach() == targets.detach()).to(dtype=torch.float32).mean()\n",
    "        running_accuracy.append(accuracy)\n",
    "    \n",
    "    return torch.mean(torch.as_tensor(running_loss)), torch.mean(torch.as_tensor(running_accuracy))\n",
    "\n",
    "\n",
    "def eval_model(\n",
    "    model: nn.Module, loss_fn: Callable, val_data_loader: DataLoader, \n",
    "    epoch: int, batch_size: int = 4, device: torch.device = 'cpu'\n",
    "):\n",
    "    # evaluation mode\n",
    "    model.eval()\n",
    "\n",
    "    with torch.no_grad():\n",
    "        running_loss = []\n",
    "        running_accuracy = []\n",
    "        for imgs, targets in tqdm.tqdm(val_data_loader, desc=f'Evaluation iteration {epoch + 1}'):\n",
    "            imgs, targets = imgs.to(device=device), targets.to(device=device)\n",
    "\n",
    "            # forward + backward + optimize\n",
    "            outputs = model(imgs)\n",
    "            loss = loss_fn(outputs, targets)\n",
    "\n",
    "            # print statistics\n",
    "            running_loss.append(loss.item())\n",
    "\n",
    "            # Calculate the Accuracy \n",
    "            max_outputs = torch.max(outputs, dim=1).indices\n",
    "            accuracy = (max_outputs.detach() == targets.detach()).to(dtype=torch.float32).mean()\n",
    "            running_accuracy.append(accuracy)\n",
    "    \n",
    "    return torch.mean(torch.as_tensor(running_loss)), torch.mean(torch.as_tensor(running_accuracy))\n",
    "\n",
    "# combine train and evaluation phase\n",
    "def operate(model: nn.Module, loss_fn: Callable, optimizer: Optimizer,\n",
    "            train_data_loader: DataLoader, test_data_loader: DataLoader, \n",
    "            batch_size: int = 4, epochs: int = 10):\n",
    "    \n",
    "    t_losses, t_accs, e_losses, e_accs = [], [], [], []\n",
    "    for epoch in range(epochs):\n",
    "        t_loss, t_acc = train_model(model=model, loss_fn=loss_fn, optimizer=optimizer, train_data_loader=train_data_loader, epoch=epoch, batch_size=batch_size, epochs=epochs)\n",
    "        t_losses.append(t_loss)\n",
    "        t_accs.append(t_acc)\n",
    "\n",
    "        e_loss, e_acc = eval_model(model=model, loss_fn=loss_fn, val_data_loader=test_data_loader, epoch=epoch, batch_size=batch_size)\n",
    "        e_losses.append(e_loss)\n",
    "        e_accs.append(e_acc)\n",
    "\n",
    "        print(f'Training epoch {epoch + 1} finished with loss: {t_loss} and accuracy {t_acc}')\n",
    "        print(f'Eval epoch {epoch + 1} finished with loss: {e_loss} and accuracy {e_acc}')\n",
    "    \n",
    "    return t_losses, t_accs, e_losses, e_accs\n"
   ]
  },
  {
   "attachments": {},
   "cell_type": "markdown",
   "metadata": {},
   "source": [
    "### Set hyperparameters"
   ]
  },
  {
   "cell_type": "code",
   "execution_count": 3,
   "metadata": {},
   "outputs": [],
   "source": [
    "batch_size = 4\n",
    "train_data_loader, test_data_loader, _, _ = load_fashion_mnist_data(batch_size=batch_size)\n",
    "\n",
    "epochs = 5\n",
    "\n",
    "# method to count the number of parameters \n",
    "def count_parameters(model):\n",
    "    return sum(p.numel() for p in model.parameters() if p.requires_grad)"
   ]
  },
  {
   "cell_type": "markdown",
   "metadata": {},
   "source": [
    "### Linear model "
   ]
  },
  {
   "cell_type": "code",
   "execution_count": 4,
   "metadata": {},
   "outputs": [],
   "source": [
    "import torch.nn as nn\n",
    "\n",
    "# Linear Model with Batch Norm\n",
    "class LinearLayerModel_BatchNorm(nn.Module):\n",
    "    def __init__(self) -> None:\n",
    "        super().__init__()\n",
    "\n",
    "        self.model = nn.Sequential(\n",
    "            nn.Linear(784, 32), \n",
    "            nn.BatchNorm1d(32),\n",
    "            nn.ReLU(),\n",
    "            nn.Linear(32, 32),\n",
    "            nn.BatchNorm1d(32),\n",
    "            nn.ReLU(),\n",
    "            nn.Linear(32, 10)\n",
    "        )\n",
    "    \n",
    "    def forward(self, imgs):\n",
    "        imgs = imgs.reshape(imgs.shape[0], -1)\n",
    "\n",
    "        return self.model(imgs)"
   ]
  },
  {
   "cell_type": "markdown",
   "metadata": {},
   "source": [
    "### Convolutional model"
   ]
  },
  {
   "cell_type": "code",
   "execution_count": 5,
   "metadata": {},
   "outputs": [],
   "source": [
    "# Convolutional Model with Batch Norm   \n",
    "class ConvLayerModel_BatchNorm(nn.Module):\n",
    "    def __init__(self) -> None:\n",
    "        super().__init__()\n",
    "\n",
    "        self.model = nn.Sequential(\n",
    "            nn.Conv2d(1, 16, kernel_size=3, stride=1, padding=1), \n",
    "            nn.BatchNorm2d(16),\n",
    "            nn.ReLU(),\n",
    "            nn.Conv2d(16, 16, kernel_size=3, stride=1, padding=1),\n",
    "            nn.BatchNorm2d(16),\n",
    "            nn.ReLU(),\n",
    "            \n",
    "            # fully connected layer\n",
    "            nn.Flatten(),\n",
    "            nn.Linear(16 * 784, 32),\n",
    "            nn.BatchNorm1d(32),\n",
    "            nn.ReLU(),\n",
    "            nn.Linear(32, 32),\n",
    "            nn.BatchNorm1d(32),\n",
    "            nn.ReLU(),\n",
    "            nn.Linear(32, 10)\n",
    "        )\n",
    "       \n",
    "    def forward(self, imgs):\n",
    "        return self.model(imgs)\n",
    "  "
   ]
  },
  {
   "attachments": {},
   "cell_type": "markdown",
   "metadata": {},
   "source": [
    "### Train and evaluate linear model"
   ]
  },
  {
   "cell_type": "code",
   "execution_count": 7,
   "metadata": {},
   "outputs": [
    {
     "name": "stdout",
     "output_type": "stream",
     "text": [
      "Linear layer model with batch normalization has: 26634 parameters to optimize.\n"
     ]
    },
    {
     "name": "stderr",
     "output_type": "stream",
     "text": [
      "Training iteration 1:   0%|          | 0/15000 [00:00<?, ?it/s]"
     ]
    },
    {
     "name": "stderr",
     "output_type": "stream",
     "text": [
      "Training iteration 1: 100%|██████████| 15000/15000 [00:41<00:00, 362.44it/s]\n",
      "Evaluation iteration 1: 100%|██████████| 2500/2500 [00:05<00:00, 463.98it/s] \n"
     ]
    },
    {
     "name": "stdout",
     "output_type": "stream",
     "text": [
      "Training epoch 1 finished with loss: 0.887180507183075 and accuracy 0.7006666660308838\n",
      "Eval epoch 1 finished with loss: 0.521202027797699 and accuracy 0.8203999996185303\n"
     ]
    },
    {
     "name": "stderr",
     "output_type": "stream",
     "text": [
      "Training iteration 2: 100%|██████████| 15000/15000 [00:37<00:00, 404.17it/s]\n",
      "Evaluation iteration 2: 100%|██████████| 2500/2500 [00:05<00:00, 475.63it/s] \n"
     ]
    },
    {
     "name": "stdout",
     "output_type": "stream",
     "text": [
      "Training epoch 2 finished with loss: 0.7192073464393616 and accuracy 0.7555833458900452\n",
      "Eval epoch 2 finished with loss: 0.48724737763404846 and accuracy 0.8269000053405762\n"
     ]
    },
    {
     "name": "stderr",
     "output_type": "stream",
     "text": [
      "Training iteration 3: 100%|██████████| 15000/15000 [00:36<00:00, 409.39it/s]\n",
      "Evaluation iteration 3: 100%|██████████| 2500/2500 [00:05<00:00, 488.94it/s] \n"
     ]
    },
    {
     "name": "stdout",
     "output_type": "stream",
     "text": [
      "Training epoch 3 finished with loss: 0.6858720183372498 and accuracy 0.7657833099365234\n",
      "Eval epoch 3 finished with loss: 0.4640354514122009 and accuracy 0.8378999829292297\n"
     ]
    },
    {
     "name": "stderr",
     "output_type": "stream",
     "text": [
      "Training iteration 4: 100%|██████████| 15000/15000 [00:36<00:00, 407.73it/s]\n",
      "Evaluation iteration 4: 100%|██████████| 2500/2500 [00:05<00:00, 469.65it/s] \n"
     ]
    },
    {
     "name": "stdout",
     "output_type": "stream",
     "text": [
      "Training epoch 4 finished with loss: 0.6503338813781738 and accuracy 0.7756500244140625\n",
      "Eval epoch 4 finished with loss: 0.451261043548584 and accuracy 0.839900016784668\n"
     ]
    },
    {
     "name": "stderr",
     "output_type": "stream",
     "text": [
      "Training iteration 5: 100%|██████████| 15000/15000 [00:36<00:00, 409.30it/s]\n",
      "Evaluation iteration 5: 100%|██████████| 2500/2500 [00:05<00:00, 466.53it/s] "
     ]
    },
    {
     "name": "stdout",
     "output_type": "stream",
     "text": [
      "Training epoch 5 finished with loss: 0.6378354430198669 and accuracy 0.7810666561126709\n",
      "Eval epoch 5 finished with loss: 0.4439271092414856 and accuracy 0.8428999781608582\n"
     ]
    },
    {
     "name": "stderr",
     "output_type": "stream",
     "text": [
      "\n"
     ]
    }
   ],
   "source": [
    "bn_linear_layer_model = LinearLayerModel_BatchNorm()\n",
    "print(f'Linear layer model with batch normalization has: {count_parameters(bn_linear_layer_model)} parameters to optimize.')\n",
    "optimizer = torch.optim.Adam(bn_linear_layer_model.parameters(), lr=0.001)\n",
    "\n",
    "loss_fn = torch.nn.CrossEntropyLoss()\n",
    "\n",
    "bn_ll_t_iter_losses, bn_ll_t_iter_accs, bn_ll_e_iter_losses, bn_ll_e_iter_accs = operate(\n",
    "    model=bn_linear_layer_model, loss_fn=loss_fn, optimizer=optimizer,\n",
    "    train_data_loader=train_data_loader, test_data_loader=test_data_loader,\n",
    "    batch_size=batch_size, epochs=epochs\n",
    ")"
   ]
  },
  {
   "attachments": {},
   "cell_type": "markdown",
   "metadata": {},
   "source": [
    "### Train and evaluate convolutional model"
   ]
  },
  {
   "cell_type": "code",
   "execution_count": 8,
   "metadata": {},
   "outputs": [
    {
     "name": "stdout",
     "output_type": "stream",
     "text": [
      "Convolutional model with batch normalization has: 405498 parameters to optimize.\n"
     ]
    },
    {
     "name": "stderr",
     "output_type": "stream",
     "text": [
      "Training iteration 1: 100%|██████████| 15000/15000 [01:39<00:00, 150.85it/s]\n",
      "Evaluation iteration 1: 100%|██████████| 2500/2500 [00:06<00:00, 371.17it/s]\n"
     ]
    },
    {
     "name": "stdout",
     "output_type": "stream",
     "text": [
      "Training epoch 1 finished with loss: 0.71341472864151 and accuracy 0.7625499963760376\n",
      "Eval epoch 1 finished with loss: 0.377360463142395 and accuracy 0.8686000108718872\n"
     ]
    },
    {
     "name": "stderr",
     "output_type": "stream",
     "text": [
      "Training iteration 2: 100%|██████████| 15000/15000 [01:37<00:00, 153.55it/s]\n",
      "Evaluation iteration 2: 100%|██████████| 2500/2500 [00:07<00:00, 351.71it/s]\n"
     ]
    },
    {
     "name": "stdout",
     "output_type": "stream",
     "text": [
      "Training epoch 2 finished with loss: 0.5191447734832764 and accuracy 0.8241166472434998\n",
      "Eval epoch 2 finished with loss: 0.33078184723854065 and accuracy 0.883400022983551\n"
     ]
    },
    {
     "name": "stderr",
     "output_type": "stream",
     "text": [
      "Training iteration 3: 100%|██████████| 15000/15000 [01:36<00:00, 154.75it/s]\n",
      "Evaluation iteration 3: 100%|██████████| 2500/2500 [00:06<00:00, 374.67it/s]\n"
     ]
    },
    {
     "name": "stdout",
     "output_type": "stream",
     "text": [
      "Training epoch 3 finished with loss: 0.4640250504016876 and accuracy 0.8432666659355164\n",
      "Eval epoch 3 finished with loss: 0.3215833902359009 and accuracy 0.8833000063896179\n"
     ]
    },
    {
     "name": "stderr",
     "output_type": "stream",
     "text": [
      "Training iteration 4: 100%|██████████| 15000/15000 [01:38<00:00, 152.48it/s]\n",
      "Evaluation iteration 4: 100%|██████████| 2500/2500 [00:05<00:00, 419.40it/s]\n"
     ]
    },
    {
     "name": "stdout",
     "output_type": "stream",
     "text": [
      "Training epoch 4 finished with loss: 0.4281429648399353 and accuracy 0.8552666902542114\n",
      "Eval epoch 4 finished with loss: 0.30393922328948975 and accuracy 0.8906999826431274\n"
     ]
    },
    {
     "name": "stderr",
     "output_type": "stream",
     "text": [
      "Training iteration 5: 100%|██████████| 15000/15000 [01:34<00:00, 159.57it/s]\n",
      "Evaluation iteration 5: 100%|██████████| 2500/2500 [00:06<00:00, 400.57it/s]"
     ]
    },
    {
     "name": "stdout",
     "output_type": "stream",
     "text": [
      "Training epoch 5 finished with loss: 0.40252426266670227 and accuracy 0.862583339214325\n",
      "Eval epoch 5 finished with loss: 0.2928754985332489 and accuracy 0.8930000066757202\n"
     ]
    },
    {
     "name": "stderr",
     "output_type": "stream",
     "text": [
      "\n"
     ]
    }
   ],
   "source": [
    "bn_conv_model = ConvLayerModel_BatchNorm()\n",
    "print(f'Convolutional model with batch normalization has: {count_parameters(bn_conv_model)} parameters to optimize.')\n",
    "optimizer = torch.optim.Adam(bn_conv_model.parameters(), lr=0.001)\n",
    "\n",
    "loss_fn = torch.nn.CrossEntropyLoss()\n",
    "\n",
    "bn_conv_t_iter_losses, bn_conv_t_iter_accs, bn_conv_e_iter_losses, bn_conv_e_iter_accs = operate(\n",
    "    model=bn_conv_model, loss_fn=loss_fn, optimizer=optimizer,\n",
    "    train_data_loader=train_data_loader, test_data_loader=test_data_loader,\n",
    "    batch_size=batch_size, epochs=epochs\n",
    ")"
   ]
  },
  {
   "attachments": {},
   "cell_type": "markdown",
   "metadata": {},
   "source": [
    "### Compare the results"
   ]
  },
  {
   "cell_type": "code",
   "execution_count": 9,
   "metadata": {},
   "outputs": [],
   "source": [
    "import numpy as np\n",
    "x_vals = np.arange(0, len(bn_conv_t_iter_losses))\n",
    "x_vals_test_data = [i for i in range(0, len(bn_conv_t_iter_losses), len(x_vals) // len(bn_ll_e_iter_losses))]"
   ]
  },
  {
   "cell_type": "code",
   "execution_count": 11,
   "metadata": {},
   "outputs": [
    {
     "data": {
      "image/png": "[encoded data removed]",
      "text/plain": [
       "<Figure size 800x500 with 1 Axes>"
      ]
     },
     "metadata": {},
     "output_type": "display_data"
    }
   ],
   "source": [
    "fig = plt.figure(figsize=(8,5))\n",
    "plt.plot(x_vals, bn_ll_t_iter_losses, label=\"Linear model with batch norm (Train)\", c=\"blue\")\n",
    "plt.plot(x_vals, bn_conv_t_iter_losses, label=\"Conv model with batch norm (Train)\", c=\"green\")\n",
    "\n",
    "plt.plot(x_vals_test_data, bn_ll_e_iter_losses, label=\"Linear model with batch norm (Test)\", linestyle=\"dashed\", c=\"blue\")\n",
    "plt.plot(x_vals_test_data, bn_conv_e_iter_losses, label=\"Conv model with batch norm (Test)\", linestyle=\"dashed\", c=\"green\")\n",
    "\n",
    "plt.xlabel('Iteration * 100')\n",
    "plt.ylabel('training loss')\n",
    "plt.title(\"Linear with BN vs Conv with BN\")\n",
    "plt.legend()\n",
    "plt.show()\n",
    "plt.close()"
   ]
  },
  {
   "cell_type": "markdown",
   "metadata": {},
   "source": [
    "### Convolutional model with batch norm performs better than linear model with batch norm for classifying FashionMNIST dataset."
   ]
  }
 ],
 "metadata": {
  "kernelspec": {
   "display_name": "Python 3.9.13 ('aai_2')",
   "language": "python",
   "name": "python3"
  },
  "language_info": {
   "codemirror_mode": {
    "name": "ipython",
    "version": 3
   },
   "file_extension": ".py",
   "mimetype": "text/x-python",
   "name": "python",
   "nbconvert_exporter": "python",
   "pygments_lexer": "ipython3",
   "version": "3.9.0"
  },
  "orig_nbformat": 4,
  "vscode": {
   "interpreter": {
    "hash": "25301cabe4c6f833fd20f15b1b22933971919908771eb627a83fe325b4fb6671"
   }
  }
 },
 "nbformat": 4,
 "nbformat_minor": 2
}
